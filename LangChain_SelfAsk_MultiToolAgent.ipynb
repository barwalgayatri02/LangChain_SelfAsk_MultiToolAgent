{
  "nbformat": 4,
  "nbformat_minor": 0,
  "metadata": {
    "colab": {
      "provenance": []
    },
    "kernelspec": {
      "name": "python3",
      "display_name": "Python 3"
    },
    "language_info": {
      "name": "python"
    }
  },
  "cells": [
    {
      "cell_type": "code",
      "source": [
        "import os\n",
        "from dotenv import load_dotenv\n",
        "from langchain_community.tools.tavily_search import TavilySearchResults\n",
        "from langchain_groq import ChatGroq\n",
        "# Load environment variables from .env file\n",
        "load_dotenv()\n",
        "llm=ChatGroq(model_name=\"Gemma2-9b-It\", api_key=os.getenv(\"GROQ_API_KEY\"))"
      ],
      "metadata": {
        "id": "flPLFxaHbcE1"
      },
      "execution_count": 18,
      "outputs": []
    },
    {
      "cell_type": "code",
      "source": [
        "from langchain_community.document_loaders import WebBaseLoader\n",
        "from langchain_community.vectorstores import FAISS\n",
        "from langchain_text_splitters import RecursiveCharacterTextSplitter"
      ],
      "metadata": {
        "id": "Lp0CVHrZVM3y"
      },
      "execution_count": 19,
      "outputs": []
    },
    {
      "cell_type": "code",
      "source": [
        "# Now Python can read the key\n",
        "tavily_api_key = os.getenv(\"TAVILY_API_KEY\")\n",
        "\n",
        "# Initialize Tavily\n",
        "tavily_tool = TavilySearchResults(tavily_api_key=tavily_api_key)\n",
        "tavily_tool.invoke(\"what is the weather in SF\")"
      ],
      "metadata": {
        "colab": {
          "base_uri": "https://localhost:8080/"
        },
        "id": "pOSCT0iDagSE",
        "outputId": "9c43959a-da2f-406f-eded-f016f84536ec"
      },
      "execution_count": 20,
      "outputs": [
        {
          "output_type": "execute_result",
          "data": {
            "text/plain": [
              "[{'title': 'Weather San Francisco in September 2025: Temperature & Climate',\n",
              "  'url': 'https://en.climate-data.org/north-america/united-states-of-america/california/san-francisco-385/t/september-9/',\n",
              "  'content': '| 12. September | 17 °C | 62 °F | 23 °C | 73 °F | 13 °C | 56 °F | 14 °C | 57 °F | 0.1 mm | 0.0 inch. |\\n| 13. September | 17 °C | 62 °F | 23 °C | 73 °F | 13 °C | 56 °F | 14 °C | 57 °F | 0.1 mm | 0.0 inch. |\\n| 14. September | 17 °C | 62 °F | 22 °C | 71 °F | 13 °C | 56 °F | 14 °C | 58 °F | 0.3 mm | 0.0 inch. |\\n| 15. September | 16 °C | 61 °F | 21 °C | 70 °F | 13 °C | 55 °F | 14 °C | 58 °F | 0.0 mm | 0.0 inch. | [...] | Max. Temperature °C (°F) | 14 °C (57.3) °F | 14.9 °C (58.7) °F | 16.2 °C (61.2) °F | 17.4 °C (63.3) °F | 19.2 °C (66.5) °F | 21.5 °C (70.8) °F | 21.8 °C (71.2) °F | 22.2 °C (71.9) °F | 23.1 °C (73.6) °F | 21.3 °C (70.3) °F | 17.1 °C (62.8) °F | 13.9 °C (57.1) °F |\\n| Precipitation / Rainfall mm (in) | 113 (4) | 118 (4) | 83 (3) | 40 (1) | 21 (0) | 6 (0) | 2 (0) | 2 (0) | 3 (0) | 25 (0) | 57 (2) | 111 (4) |\\n| Humidity(%) | 79% | 80% | 78% | 72% | 70% | 69% | 74% | 74% | 71% | 70% | 76% | 78% | [...] | Min. Temperature °C (°F) | 6.2 °C (43.2) °F | 7.1 °C (44.8) °F | 8.2 °C (46.8) °F | 8.9 °C (48.1) °F | 10.3 °C (50.6) °F | 11.8 °C (53.3) °F | 12.7 °C (54.9) °F | 13.3 °C (55.9) °F | 13.1 °C (55.6) °F | 11.9 °C (53.4) °F | 9 °C (48.2) °F | 6.8 °C (44.2) °F |',\n",
              "  'score': 0.9014448},\n",
              " {'title': 'San Francisco weather in September 2025 | Weather25.com',\n",
              "  'url': 'https://www.weather25.com/north-america/usa/california/san-francisco?page=month&month=September',\n",
              "  'content': '| 28  69° /55° | 29  69° /57° | 30  71° /57° |  |  |  |  | [...] ## The average weather in San Francisco in September\\n\\nThe temperatures in San Francisco in September are comfortable with low of 57°F and and high up to 77°F.\\n\\nThere is little to no rain in San Francisco during September, so it’s a lot easier to explore the city. Just remember to dress in warm layers, as it can still get pretty chilly.\\n\\nOur weather forecast can give you a great sense of what weather to expect in San Francisco in September 2025. [...] # San Francisco weather in September 2025\\n\\nSep 8\\n\\n0 in\\n\\n62° / 59°Sep 9\\n\\n0 in\\n\\n62° / 60°Sep 10\\n\\n0 in\\n\\n60° / 59°Thursday\\n\\nSep 11\\n\\n0 in\\n\\n62° / 57°Friday\\n\\nSep 12\\n\\n0 in\\n\\n66° / 59°Saturday\\n\\nSep 13\\n\\n0 in\\n\\n66° / 59°Sunday\\n\\nSep 14\\n\\n0 in\\n\\n66° / 59°Monday\\n\\nSep 15\\n\\n0 in\\n\\n69° / 59°Tuesday\\n\\nSep 16\\n\\n0 in\\n\\n78° / 60°Wednesday\\n\\nSep 17\\n\\n0 in\\n\\n80° / 64°Thursday\\n\\nSep 18\\n\\n0 in\\n\\n75° / 60°Friday\\n\\nSep 19\\n\\n0 in\\n\\n69° / 59°Saturday\\n\\nSep 20\\n\\n0 in\\n\\n69° / 59°Sunday\\n\\nSep 21\\n\\n0 in\\n\\n69° / 59° Next  \\nMonth >>',\n",
              "  'score': 0.89166987},\n",
              " {'title': 'San Francisco weather in September 2025 | California',\n",
              "  'url': 'https://www.weather2travel.com/california/san-francisco/september/',\n",
              "  'content': \"# San Francisco weather in September 2025\\n\\nExpect  daytime maximum temperatures of 22°C in San Francisco, California in September based on long-term weather averages. There are 9 hours of sunshine per day on average.\\n\\n 22°C max day temperature\\n 9 hours of sunshine per day\\n 2 days with some rainfall\\n 13°C min night temperature\\n 12 hours of daylight per day\\n 0\\n\\n  No heat & humidity\\n 7\\n\\n  7 mm of monthly rainfall\\n 7\\n\\n  7 (High) UV index\\n 14\\n\\n  14°C sea temperature\\n\\n### More about San Francisco [...] A beginner's guide to San Francisco\\n Park life: San Francisco's best gardens & green spaces\\n Where to relive the Summer of Love, San Francisco\\n\\n### How hot is it in San Francisco in September?\\n\\nDaytime temperatures usually reach 22°C in San Francisco in September, falling to 13°C at night.\\n\\n### How sunny is it in San Francisco in September?\\n\\nThere are normally 9 hours of bright sunshine each day in San Francisco in September - that's 73% of daylight hours. [...] ### How warm is the sea around San Francisco in September?\\n\\nThe average sea temperature around San Francisco in September is 14°C.\\n\\n### Does it ever rain in San Francisco in September?\\n\\nThere are usually 2 days with some rain in San Francisco in September and the average monthly rainfall is 7mm.\\n\\n## San Francisco September sunrise & sunset times\",\n",
              "  'score': 0.8825193},\n",
              " {'title': 'San Francisco, CA Hourly Weather Forecast',\n",
              "  'url': 'https://wu-next-prod-us-east-1-aws.wunderground.com/hourly/us/ca/san-francisco/KCASANFR1708/date/2025-9-13',\n",
              "  'content': 'NEXT DAY HOURLY FORECAST\\n\\n_date\\\\_range_ View Calendar Forecast\\n\\nTop Video Stories\\n\\n\\n\\n_play\\\\_circle\\\\_outline_\\n\\nFlorida Heavy Rain, Flood Threat Lingers Friday, Saturday\\n\\n[00:00:30]\\n\\n   _keyboard\\\\_arrow\\\\_left_\\n    \\n    \\n    \\n   _keyboard\\\\_arrow\\\\_right_\\n\\nSee more Top Video Stories\\n\\nAdditional Conditions\\n\\nPressure\\n\\n29.93°in\\n\\nVisibility\\n\\n8°miles\\n\\nClouds\\n\\nPartly Cloudy\\n\\nDew Point\\n\\n56°F\\n\\nHumidity\\n\\n84°%\\n\\nRainfall\\n\\n0°in\\n\\nSnow Depth\\n\\n0°in\\n\\n KJMC Station History\\n\\nAlmanac for September 13, 2025\\n\\nForecast',\n",
              "  'score': 0.875031},\n",
              " {'title': 'San Francisco September 2025 Historical Weather Data (California ...',\n",
              "  'url': 'https://weatherspark.com/h/m/557/2025/9/Historical-Weather-in-September-2025-in-San-Francisco-California-United-States',\n",
              "  'content': '| 240 deg, WSW | | Gust Speed | 23 mph |  Cloud Cover  Mostly Cloudy  20,000 ft   |  |  |  --- | |  | Mostly Clear 2,800 ft |   |  |  |  --- | | Vis. | 10.00 mi or greater | | Alt. | 29.98 inHg |  Raw: KSFO 082356Z 24010G20KT 220V280 10SM FEW028 BKN200 24/14 A2998 RMK AO2 SLP153 T02440144 10256 20194 56022 $  This report shows the past weather for San Francisco, providing a weather history for September 2025. It features all historical weather data series we have available, including the San [...] 240,351 mi | | 4 |  | 92%  | 3:04 AM | WSW | 6:08 PM | ESE | 11:11 PM | S | 236,874 mi | | 5 |  | 95%  | 4:14 AM | WSW | 6:40 PM | ESE   | 6 |  | 97%  | 5:25 AM | WSW | 7:09 PM | ESE | 12:02 AM | S | 233,565 mi | | 7 |  | 100%  | 6:36 AM | W | 7:35 PM | E | 12:51 AM | S | 230,703 mi | | 8 |  | 100%  | 7:47 AM | W | 8:01 PM | E | 1:39 AM | S | 228,517 mi | | 9 |  | 96%  | 9:00 AM | W | 8:28 PM | ENE | 2:27 AM | S | 227,155 mi | | 10 |  | 90%  | 10:14 AM | WNW | 8:58 PM | ENE | 3:17 AM | S | [...] 226,665 mi | | 11 |  | 82%  | 11:30 AM | WNW | 9:34 PM | ENE | 4:10 AM | S | 226,999 mi | | 12 |  | 72%  | 12:47 PM | WNW | 10:16 PM | NE | 5:06 AM | S | 228,033 mi | | 13 |  | 60%  | 2:00 PM | NW | 11:08 PM | NE | 6:05 AM | S | 229,601 mi | | 14 |  | 50%  | 3:06 PM | NW  | 7:07 AM | S | 231,527 mi | | 15 |  | 37% | 12:09 AM | NE | 4:02 PM | NW  | 8:08 AM | S | 233,660 mi | | 16 |  | 26% | 1:17 AM | NE | 4:48 PM | WNW  | 9:06 AM | S | 235,888 mi | | 17 |  | 17% | 2:27 AM | ENE | 5:24 PM | WNW',\n",
              "  'score': 0.8479807}]"
            ]
          },
          "metadata": {},
          "execution_count": 20
        }
      ]
    },
    {
      "cell_type": "code",
      "source": [
        "from langchain.agents import Tool\n",
        "from langchain_core.prompts import PromptTemplate\n",
        "from langchain.agents import AgentExecutor , create_self_ask_with_search_agent"
      ],
      "metadata": {
        "id": "5ITAjBePdgia"
      },
      "execution_count": 21,
      "outputs": []
    },
    {
      "cell_type": "code",
      "source": [
        "template = '''Answer the following questions as best you can. You have access to the following tools:\n",
        "{tools}\n",
        "Use the following format:\n",
        "Question: the input question you must answer\n",
        "Thought: you should always think about what to do\n",
        "Action: the action to take, should be one of [{tool_names}]\n",
        "Action Input: the input to the action\n",
        "Observation: the result of the action\n",
        "... (this Thought/Action/Action Input/Observation can repeat N times)\n",
        "Thought: I now know the final answer\n",
        "Final Answer: the final answer to the original input question\n",
        "Begin!\n",
        "Question: {input}\n",
        "Thought:{agent_scratchpad}'''"
      ],
      "metadata": {
        "id": "9kLxA7K1dpTP"
      },
      "execution_count": 22,
      "outputs": []
    },
    {
      "cell_type": "code",
      "source": [
        "prompt = PromptTemplate.from_template(template)"
      ],
      "metadata": {
        "id": "9drJAHmseCfs"
      },
      "execution_count": 23,
      "outputs": []
    },
    {
      "cell_type": "markdown",
      "source": [
        "### Self-Ask with Search Agent:\n",
        "\n",
        "## Definition:\n",
        "\n",
        "This approach allows the AI to ask itself follow-up questions when it doesn't immediately know the answer. It performs a recursive questioning process to break down complex queries into smaller, more manageable ones.\n",
        "Once the AI generates these follow-up questions, it performs an external search (e.g., through Google or an internal database) to gather the necessary information before formulating a response.\n",
        "How it works:\n",
        "\n",
        "- Step 1: Receive a complex question.\n",
        "- Step 2: The agent identifies sub-questions or follow-up questions.\n",
        "- Step 3: It performs a search or fetches answers to these questions from external resources (like a web search).\n",
        "- Step 4: The answers are aggregated to provide a complete response.\n",
        "Key points:\n",
        "\n",
        "Emphasizes question decomposition.\n",
        "Relies on external search for sub-questions.\n",
        "Useful for answering open-ended or broad questions where the answer is not immediately available.\n",
        "Example:\n",
        "\n",
        "Original question: “How many moons does Jupiter have?”\n",
        "Sub-question: “What is Jupiter?” (search)\n",
        "Sub-question: “What are moons?” (search)\n",
        "Finally, it retrieves the answer: \"Jupiter has 79 moons.\"\n"
      ],
      "metadata": {
        "id": "jqcbDTkmerAT"
      }
    },
    {
      "cell_type": "code",
      "source": [
        "from langchain_google_genai import ChatGoogleGenerativeAI\n",
        "\n",
        "llm = ChatGoogleGenerativeAI(\n",
        "    model=\"gemini-2.5-pro\",\n",
        "    google_api_key=os.getenv(\"GOOGLE_API_KEY\"),\n",
        "    convert_system_message_to_human=True,\n",
        ")"
      ],
      "metadata": {
        "id": "7GoNPEbGtJ1s"
      },
      "execution_count": 27,
      "outputs": []
    },
    {
      "cell_type": "code",
      "source": [
        "from langchain.tools import tool\n",
        "from langchain import hub\n",
        "from langchain.agents import AgentExecutor, create_react_agent\n",
        "\n",
        "prompt = hub.pull(\"hwchase17/self-ask-with-search\")\n",
        "print(prompt.template)"
      ],
      "metadata": {
        "colab": {
          "base_uri": "https://localhost:8080/"
        },
        "id": "zgggZgF6etGN",
        "outputId": "2d366999-b9dc-49c1-e504-f659d139dcae"
      },
      "execution_count": 28,
      "outputs": [
        {
          "output_type": "stream",
          "name": "stdout",
          "text": [
            "Question: Who lived longer, Muhammad Ali or Alan Turing?\n",
            "Are follow up questions needed here: Yes.\n",
            "Follow up: How old was Muhammad Ali when he died?\n",
            "Intermediate answer: Muhammad Ali was 74 years old when he died.\n",
            "Follow up: How old was Alan Turing when he died?\n",
            "Intermediate answer: Alan Turing was 41 years old when he died.\n",
            "So the final answer is: Muhammad Ali\n",
            "\n",
            "Question: When was the founder of craigslist born?\n",
            "Are follow up questions needed here: Yes.\n",
            "Follow up: Who was the founder of craigslist?\n",
            "Intermediate answer: Craigslist was founded by Craig Newmark.\n",
            "Follow up: When was Craig Newmark born?\n",
            "Intermediate answer: Craig Newmark was born on December 6, 1952.\n",
            "So the final answer is: December 6, 1952\n",
            "\n",
            "Question: Who was the maternal grandfather of George Washington?\n",
            "Are follow up questions needed here: Yes.\n",
            "Follow up: Who was the mother of George Washington?\n",
            "Intermediate answer: The mother of George Washington was Mary Ball Washington.\n",
            "Follow up: Who was the father of Mary Ball Washington?\n",
            "Intermediate answer: The father of Mary Ball Washington was Joseph Ball.\n",
            "So the final answer is: Joseph Ball\n",
            "\n",
            "Question: Are both the directors of Jaws and Casino Royale from the same country?\n",
            "Are follow up questions needed here: Yes.\n",
            "Follow up: Who is the director of Jaws?\n",
            "Intermediate answer: The director of Jaws is Steven Spielberg.\n",
            "Follow up: Where is Steven Spielberg from?\n",
            "Intermediate answer: The United States.\n",
            "Follow up: Who is the director of Casino Royale?\n",
            "Intermediate answer: The director of Casino Royale is Martin Campbell.\n",
            "Follow up: Where is Martin Campbell from?\n",
            "Intermediate answer: New Zealand.\n",
            "So the final answer is: No\n",
            "\n",
            "Question: {input}\n",
            "Are followup questions needed here:{agent_scratchpad}\n"
          ]
        }
      ]
    },
    {
      "cell_type": "code",
      "source": [
        "from langchain.agents import create_self_ask_with_search_agent\n",
        "from langchain.agents import AgentExecutor\n",
        "\n",
        "tools = [\n",
        "    Tool(\n",
        "        name=\"Intermediate Answer\",\n",
        "        func=tavily_tool.run,\n",
        "        description=\"useful for when you need to ask with search\",\n",
        "        verbose=True\n",
        "    )\n",
        "]\n",
        "\n",
        "\n",
        "agent = create_self_ask_with_search_agent(llm,tools,prompt)\n",
        "\n",
        "# make executor with relaxed parsing\n",
        "agent_executor = AgentExecutor.from_agent_and_tools(\n",
        "    agent=agent,\n",
        "    tools=tools,\n",
        "    verbose=True,\n",
        "    handle_parsing_errors=True\n",
        ")\n",
        "\n",
        "# now call\n",
        "response = agent_executor.invoke({\"input\": \"What is the todays gold rate and Pune weather ?\"})\n",
        "print(response)"
      ],
      "metadata": {
        "colab": {
          "base_uri": "https://localhost:8080/"
        },
        "id": "o_9lwGcIe0ld",
        "outputId": "f26a050d-f05f-49bc-b868-bdaebf4fcf34"
      },
      "execution_count": 29,
      "outputs": [
        {
          "output_type": "stream",
          "name": "stdout",
          "text": [
            "\n",
            "\n",
            "\u001b[1m> Entering new AgentExecutor chain...\u001b[0m\n"
          ]
        },
        {
          "output_type": "stream",
          "name": "stderr",
          "text": [
            "/usr/local/lib/python3.12/dist-packages/langchain_google_genai/chat_models.py:499: UserWarning: Convert_system_message_to_human will be deprecated!\n",
            "  warnings.warn(\"Convert_system_message_to_human will be deprecated!\")\n"
          ]
        },
        {
          "output_type": "stream",
          "name": "stdout",
          "text": [
            "\u001b[32;1m\u001b[1;3mYes.\n",
            "Follow up: What is the current gold rate?\u001b[0m\u001b[36;1m\u001b[1;3m[{'title': 'Gold Price Today in United States', 'url': 'https://goldinforma.com/us', 'content': \"goldinforma logo\\n\\n# Gold Price Today in United States\\n\\n13th Sep, 2025 | 12:00AM IST\\n\\n## 24K Gold /g\\n\\n## 22K Gold /g\\n\\n## 18K Gold /g\\n\\nToday's gold rate in United States, dated 13th Sep, 2025, is\\nUSD117.18 per gram for 24K gold,\\nUSD107.42 per gram for 22K gold, and\\nUSD87.89 per gram for 18K gold.\\nToday, the prices have seen a \\nslight rise\\n, with 24K gold up by USD0.51,\\nand 22K gold up by USD0.47,\\nand 18K gold up by USD0.39 [...] Gold Informa is providing gold price in United States herewith for our readers' informational purposes only.\\nThe above gold rates are indicative and do not include taxes. For exact rates, contact your local jeweler.\\n\\n## Today's Gold Rates by Karat in United States\\n\\n### Today 24 Carat Gold Price Per Gram in United States (USD)\\n\\nThe price of 24K gold today, 13th Sep, 2025 in United States has \\nrisen\\n by USD 0.51\\n, now standing at USD117.18 per gram compared to yesterday, 12th Sep, 2025. [...] | Date | 22K | 24K | 18K |\\n ---  --- |\\n| 12th Sep, 2025 | USD 105.00 | USD 114.55 | USD 85.91 |\\n| 11th Sep, 2025 | USD 104.29 | USD 113.77 | USD 85.33 |\\n| 10th Sep, 2025 | USD 105.69 | USD 115.30 | USD 86.47 |\\n| 09th Sep, 2025 | USD 105.50 | USD 115.09 | USD 86.32 |\\n| 08th Sep, 2025 | USD 105.50 | USD 115.09 | USD 86.32 |\\n| 07th Sep, 2025 | USD 106.64 | USD 116.33 | USD 87.25 |\\n| 06th Sep, 2025 | USD 107.27 | USD 117.03 | USD 87.77 |\\n| 05th Sep, 2025 | USD 107.15 | USD 116.89 | USD 87.67 |\", 'score': 0.82795376}, {'title': 'Current price of gold: September 12, 2025 | Fortune', 'url': 'https://fortune.com/article/current-price-of-gold-09-12-2025/', 'content': '# Current price of gold as of September 12, 2025\\n\\nDanny Bakst\\n\\nThe price of gold stood at $3,648 per ounce as of 9:30 a.m. Eastern Time today. This marks a $16 increase compared to yesterday morning and a $1,069 jump from a year prior.\\n\\n|  | Gold price per ounce | % Change |\\n --- \\n| Price of gold yesterday | $3,632 | -0.44% |\\n| Price of gold 1 month ago | $3,348 | -8.22% |\\n| Price of gold 1 year ago | $2,579 | -29.30% | [...] | Price of gold yesterday |  |\\n --- |\\n| Gold price per ounce | $3,632 |\\n| % Change | -0.44% |\\n| Price of gold 1 month ago |  |\\n| Gold price per ounce | $3,348 |\\n| % Change | -8.22% |\\n| Price of gold 1 year ago |  |\\n| Gold price per ounce | $2,579 |\\n| % Change | -29.30% | [...] | Precious Metal | Price per ounce |\\n --- |\\n| Gold | $3,648 |\\n| Silver | $42 |\\n| Platinum | $1,399 |\\n| Palladium | $1,218 |\\n\\n| Gold |  |\\n --- |\\n| Price per ounce | $3,648 |\\n| Silver |  |\\n| Price per ounce | $42 |\\n| Platinum |  |\\n| Price per ounce | $1,399 |\\n| Palladium |  |\\n| Price per ounce | $1,218 |', 'score': 0.75616}, {'title': 'Gold - Price - Chart - Historical Data - News - Trading Economics', 'url': 'https://tradingeconomics.com/commodity/gold', 'content': \"## Gold rose to 3,642.37 USD/t.oz on September 12, 2025, up 0.29% from the previous day. Over the past month, Gold's price has risen 8.52%, and is up 41.26% compared to the same time last year, according to trading on a contract for difference (CFD) that tracks the benchmark market for this commodity. Historically, Gold reached an all time high of 3675.22 in September of 2025. Gold - data, forecasts, historical chart - was last updated on September 13 of 2025. [...] |  | Actual | Chg | %Chg |\\n ---  --- |\\n| EURUSD | 1.17328 | 0.0000 | 0.00% |\\n| GBPUSD | 1.35474 | 0.0026 | -0.19% |\\n| AUDUSD | 0.66342 | 0.0031 | -0.47% |\\n| NZDUSD | 0.59413 | 0.0036 | -0.60% |\\n| USDJPY | 147.620 | 0.3920 | 0.27% |\\n| USDCNY | 7.12165 | 0.0082 | 0.12% |\\n| USDCHF | 0.79597 | 0.0000 | 0.00% |\\n| USDCAD | 1.38364 | 0.0002 | 0.01% |\\n| USDMXN | 18.4124 | 0.0540 | -0.29% |\\n| USDINR | 88.2774 | 0.0065 | 0.01% |\\n| USDBRL | 5.35530 | 0.0348 | -0.65% | [...] |  | Actual | Chg | %Chg |\\n ---  --- |\\n| United States | 4.0700 | 0.040 | 0.04% |\\n| United Kingdom | 4.6760 | 0.066 | 0.07% |\\n| Japan | 1.6024 | 0.024 | 0.02% |\\n| Australia | 4.2330 | 0.005 | -0.01% |\\n| Germany | 2.7133 | 0.063 | 0.06% |\\n| Brazil | 13.7970 | 0.007 | 0.01% |\\n| Russia | 13.9700 | 0.160 | 0.16% |\\n| India | 6.4830 | 0.007 | -0.01% |\\n| Canada | 3.1890 | 0.019 | 0.02% |\\n| Italy | 3.5474 | 0.066 | 0.07% |\\n| France | 3.5020 | 0.057 | 0.06% |\\n| South Africa | 9.3350 | 0.045 | -0.05% |\", 'score': 0.6266047}, {'title': 'Live Gold Spot Price Chart | BullionVault', 'url': 'https://www.bullionvault.com/gold-price-chart.do', 'content': \"The price of gold can change by the second, led by investment supply and demand as well as by changes in other markets (commodities, stocks or bonds) and also the currency that the investor wishes to use to buy their gold. Currently, the US dollar spot price for 1 ounce of gold is  and in Canadian dollars .\\n\\nHowever, it's possible to track the real-time changing price of gold, plus daily, weekly, monthly and yearly gold price trends using BullionVault's live gold price chart. [...] Looking at past performance, gold priced in US Dollars rose above $2000 per ounce for the first time in August 2020, jumping as the Covid-19 pandemic and subsequent global economic crisis drove investors to seek safety in physical bullion. Gold then regained that level, and also set fresh all-time records in Euros, UK Pounds, Japanese Yen and most other major currencies during the Russian invasion of Ukraine starting in late-February 2022. [...] The price of gold can change by the second, led by investment supply and demand as well as by changes in other markets (commodities, stocks or bonds) and also the currency that the investor wishes to use to buy their gold. The weight measure for the daily price of gold is troy ounces, with orders on BullionVault placed in kilograms. Currently, the spot price for 1 gram of gold in the UK is . The spot price for 1 gram of gold in the US is  or  in Canada.\", 'score': 0.5059329}, {'title': 'Live Gold Price Chart', 'url': 'https://goldprice.org/live-gold-price.html', 'content': 'Live gold prices indicate the current spot price for gold. The spot price is always on the move, and live gold quoted depict this movement and keep investors up to date on changes in price. [...] OR  \\nPlease insert this HTML code into your site or in forums to link to the front page of goldprice.org:\\n\\n`Gold Price`\\n\\n`Gold Price`\\n\\nThank You', 'score': 0.5015387}]\u001b[0m"
          ]
        },
        {
          "output_type": "stream",
          "name": "stderr",
          "text": [
            "/usr/local/lib/python3.12/dist-packages/langchain_google_genai/chat_models.py:499: UserWarning: Convert_system_message_to_human will be deprecated!\n",
            "  warnings.warn(\"Convert_system_message_to_human will be deprecated!\")\n"
          ]
        },
        {
          "output_type": "stream",
          "name": "stdout",
          "text": [
            "\u001b[32;1m\u001b[1;3mIntermediate answer: As of September 13, 2025, the price of 24K gold is USD 117.18 per gram.\n",
            "Follow up: What is the weather in Pune?\u001b[0m\u001b[36;1m\u001b[1;3m[{'title': 'Cloudy Skies, Frequent Rainfall Ahead: Pune Weather Forecast ...', 'url': 'https://www.punekarnews.in/cloudy-skies-frequent-rainfall-ahead-pune-weather-forecast-september-13-18/', 'content': 'Skip to content\\n\\n Home\\n Pune\\n Cloudy Skies, Frequent Rainfall Ahead: Pune Weather Forecast September 13–18\\n\\n Pune\\n\\n# Cloudy Skies, Frequent Rainfall Ahead: Pune Weather Forecast September 13–18\\n\\nShare this News:\\n\\nFacebookTwitterWhatsAppLinkedInTelegramMessage\\n\\nPune, 12th September 2025: The India Meteorological Department (IMD) has forecast a wet spell for Pune and adjoining areas over the next week, with cloudy skies, rain, and thunderstorms expected on most days. [...] ### IMA Urges CM Fadnavis to Withdraw Decision Allowing CCMP Doctors Registration; Warns of Statewide Strike\\n\\n### Pune: PMC Demolishes 15,000 Sq Ft of Unauthorized Construction in Kondhwa Khurd\\n\\n## Must Read\\n\\n### Pune to Host India’s Largest Inclusive Technology Championship – Robotex India 2025\\n\\n### Cloudy Skies, Frequent Rainfall Ahead: Pune Weather Forecast September 13–18\\n\\n### ‘Hard Power Critical in Modern Wars,’ Defence Secretary at Pune Seminar [...] According to the IMD, very light to light rain is likely in the city on Saturday, 13 September, under generally cloudy conditions. On Sunday, 14 September, a thunderstorm accompanied by lightning and light to moderate rainfall is expected, with isolated heavy showers in the ghat regions.', 'score': 0.9145431}, {'title': 'Weather Pune in September 2025: Temperature & Climate', 'url': 'https://en.climate-data.org/asia/india/maharashtra/pune-31/t/september-9/', 'content': '| Max. Temperature °C (°F) | 28.7 °C (83.7) °F | 31.3 °C (88.4) °F | 34.5 °C (94) °F | 37 °C (98.7) °F | 35.5 °C (95.9) °F | 29 °C (84.2) °F | 25.6 °C (78.1) °F | 25.4 °C (77.7) °F | 26.9 °C (80.5) °F | 29.2 °C (84.6) °F | 29.3 °C (84.8) °F | 28.4 °C (83.2) °F |\\n| Precipitation / Rainfall mm (in) | 1 (0) | 2 (0) | 3 (0) | 10 (0) | 26 (1) | 247 (9) | 340 (13) | 270 (10) | 189 (7) | 81 (3) | 26 (1) | 5 (0) |\\n| Humidity(%) | 46% | 41% | 35% | 40% | 55% | 79% | 88% | 88% | 85% | 67% | 53% | 48% | [...] | Min. Temperature °C (°F) | 15.1 °C (59.3) °F | 16.8 °C (62.3) °F | 19.1 °C (66.3) °F | 21 °C (69.8) °F | 22 °C (71.7) °F | 22.3 °C (72.2) °F | 21.6 °C (70.9) °F | 21.2 °C (70.1) °F | 20.8 °C (69.4) °F | 20 °C (67.9) °F | 17.7 °C (63.8) °F | 15.6 °C (60) °F | [...] | Rainy days (d) | 0 | 0 | 1 | 2 | 5 | 17 | 21 | 21 | 17 | 8 | 3 | 1 |\\n| avg. Sun hours (hours) | 9.8 | 10.2 | 10.7 | 11.0 | 10.0 | 5.8 | 4.0 | 4.1 | 5.2 | 8.6 | 9.5 | 9.6 |', 'score': 0.90692574}, {'title': 'Pune weather in September 2025 - Weather25.com', 'url': 'https://www.weather25.com/asia/india/maharashtra/pune?page=month&month=September', 'content': 'The average weather in Pune in September\\n\\nThe weather in Pune in September is hot. The average temperatures are between 69°F and 82°F.\\n\\nYou can expect rain for roughly half of the month of September in Pune. We’re expecting roughly 8 to 15 days of rain, so your rubber boots and umbrella are going to see plenty of use this month if you’re keen on staying dry.\\n\\nOur weather forecast can give you a great sense of what weather to expect in Pune in September 2025. [...] | 21 Image 48: Patchy light drizzle 82°/69° | 22 Image 49: Light rain shower 80°/68° | 23 Image 50: Patchy light drizzle 82°/68° | 24 Image 51: Light rain shower 82°/69° | 25 Image 52: Light rain shower 80°/68° | 26 Image 53: Light rain shower 80°/69° | 27 Image 54: Light rain shower 78°/69° |\\n| 28 Image 55: Patchy light drizzle 78°/69° | 29 Image 56: Patchy light drizzle 82°/68° | 30 Image 57: Cloudy 84°/69° |  |  |  |  | [...] | 7 Image 34: Patchy light drizzle 75°/69° | 8 Image 35: Patchy light drizzle 82°/68° | 9 Image 36: Patchy light drizzle 84°/68° | 10 Image 37: Light rain shower 80°/69° | 11 Image 38: Patchy light drizzle 80°/69° | 12 Image 39: Patchy light drizzle 80°/68° | 13 Image 40: Light rain shower 78°/68° |', 'score': 0.89545894}, {'title': 'India Weather in September, 2025 - Agate Travel', 'url': 'https://www.agatetravel.com/india-weather-in-september.html', 'content': '| Patna | 33°C / 91.4°F | 26°C / 78.8°F |  |  |\\n| Pune | 30°C / 86°F | 21°C / 69.8°F |  |  |\\n| Surat | 29°C / 84.2°F | 23°C / 73.4°F |  |  |\\n| Varanasi | 34°C / 93.2°F | 26°C / 78.8°F |  |  |\\n| [...] Hyderabad: 22℃ (71.6℉),  Bangalore: 20℃ (68℉),  Pune: 21℃ (69.8℉),  Amritsar: 22℃ (71.6℉)\\n\\nAverages for India Weather in September\\n\\n  \\n\\nHigh Temperature\\n\\n31°C (87.8°F)\\n\\nLow Temperature\\n\\n23°C (73.4°F)\\n\\nRainfall\\n\\n194 mm (7.6 in)\\n\\nSunrise\\n\\n05:59 ~ 06:14\\n\\nSunset\\n\\n18:08 ~ 18:42\\n\\n  \\n\\nJan.Feb.Mar.Apr.May.Jun.Jul.Aug.Sep.Oct.Nov.Dec.\\n\\nThe times for sunrise and sunset are based on Delhi.\\n\\n  \\n\\nWhat to Wear', 'score': 0.8591094}, {'title': 'Weather in Pune in September 2025 - Detailed Forecast', 'url': 'https://www.easeweather.com/asia/india/maharashtra/pune-division/pune/september', 'content': 'What are the expected maximum and minimum temperatures in Pune during September?\\n\\nDuring September, expect a variety of temperatures with highs around 27° and lows near 20°, suitable for diverse activities and preferences.\\n\\nHow much rainfall should be expected in Pune during September?\\n\\nSignificant rainfall exceeding 162.1 mm is expected in Pune during September, occurring over more than 17 days. Preparing for wet conditions is recommended in your planning. [...] | 8 Sept. | Patchy rain possible | 26° /22° | 0.3 mm | 5 |  |\\n| 9 Sept. | Patchy rain possible | 27° /21° | 0.2 mm | 5 |  |\\n| 10 Sept. | Patchy rain possible | 26° /21° | 0.2 mm | 5 |  |\\n| 11 Sept. | Partly cloudy | 26° /20° | 0 mm | 6 |  |\\n| 12 Sept. | Patchy rain possible | 27° /21° | 0.1 mm | 5 |  |\\n| 13 Sept. | Patchy rain possible | 27° /22° | 0.2 mm | 5 |  |\\n| 14 Sept. | Patchy rain possible | 26° /21° | 0.2 mm | 5 |  |\\n| 15 Sept. | Mist | 26° /19° | 0.1 mm | 6 |  | [...] ## Pune Weather September\\n\\nMove between months or click on a day\\n\\nAugust October\\n\\n| Mon. | Tue. | Wed. | Thu. | Fri. | Sat. | Sun. |\\n ---  ---  --- \\n| 1  26° | 2  27° | 3  25° | 4  22° | 5  24° | 6  24° | 7  26° |\\n| 8  26° | 9  27° | 10  26° | 11  26° | 12  27° | 13  27° | 14  26° |\\n| 15  26° | 16  26° | 17  27° | 18  28° | 19  28° | 20  29° | 21  29° |\\n| 22  27° | 23  28° | 24  27° | 25  26° | 26  26° | 27  25° | 28  28° |\\n| 29  29° | 30  29° |  |  |  |  |  |', 'score': 0.8127637}]\u001b[0m"
          ]
        },
        {
          "output_type": "stream",
          "name": "stderr",
          "text": [
            "/usr/local/lib/python3.12/dist-packages/langchain_google_genai/chat_models.py:499: UserWarning: Convert_system_message_to_human will be deprecated!\n",
            "  warnings.warn(\"Convert_system_message_to_human will be deprecated!\")\n"
          ]
        },
        {
          "output_type": "stream",
          "name": "stdout",
          "text": [
            "\u001b[32;1m\u001b[1;3mIntermediate answer: On September 13, 2025, Pune is expected to have generally cloudy conditions with very light to light rain.\n",
            "So the final answer is: As of September 13, 2025, the price of 24K gold is USD 117.18 per gram. The weather forecast for Pune on the same day is generally cloudy with a chance of very light to light rain.\u001b[0m\n",
            "\n",
            "\u001b[1m> Finished chain.\u001b[0m\n",
            "{'input': 'What is the todays gold rate and Pune weather ?', 'output': 'As of September 13, 2025, the price of 24K gold is USD 117.18 per gram. The weather forecast for Pune on the same day is generally cloudy with a chance of very light to light rain.'}\n"
          ]
        }
      ]
    }
  ]
}